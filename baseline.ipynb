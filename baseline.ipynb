{
 "cells": [
  {
   "cell_type": "markdown",
   "metadata": {},
   "source": [
    "# Project Ruby - Baseline\n",
    "\n",
    "## Goals: \n",
    "1. Predict how many comments will follow a given comment.\n",
    "2. Generate comments that will generate most children comments."
   ]
  },
  {
   "cell_type": "code",
   "execution_count": 1,
   "metadata": {},
   "outputs": [
    {
     "name": "stdout",
     "output_type": "stream",
     "text": [
      "Example Comment:\n",
      "{'body': \"'Cause your dick might hit a butt and make baby Jesus cry. \", 'author': 'Number6isNo1', 'subreddit': 'news', 'id': 'dbumnrk', 'parent_id': 't1_dbumi82', 'score': 26, 'controversiality': 0, 'link_id': 't3_5lbkgm'}\n"
     ]
    }
   ],
   "source": [
    "import json\n",
    "\n",
    "def read_dataset():\n",
    "    comments = []\n",
    "    features = ['body', 'author', 'subreddit', 'id', 'parent_id', 'score', 'controversiality', 'link_id']\n",
    "    subreddits = ['news']\n",
    "    comments_size = 100000\n",
    "    years = [\"2017\"]\n",
    "    months = [\"01\"]\n",
    "    for year in years:\n",
    "        for month in months:\n",
    "            filename = \"reddit/\" + year + \"/RC_\" + year + \"-\" + month\n",
    "            with open(filename, \"r\") as data:\n",
    "                for line in data:\n",
    "                    if len(comments) < comments_size:\n",
    "                        comment_data = json.loads(line)\n",
    "                        if comment_data['subreddit'] in subreddits:\n",
    "                            comment = dict()\n",
    "                            for feature in features:\n",
    "                                comment[feature] = comment_data[feature]\n",
    "                            comments.append(comment)\n",
    "                    else:\n",
    "                        break\n",
    "    print (\"Example Comment:\")\n",
    "    print (comments[0])\n",
    "    return comments\n",
    "\n",
    "comments = read_dataset()"
   ]
  },
  {
   "cell_type": "markdown",
   "metadata": {},
   "source": [
    "# Baseline 1: Logistic Regression with Unigram Features"
   ]
  },
  {
   "cell_type": "code",
   "execution_count": 2,
   "metadata": {},
   "outputs": [],
   "source": [
    "from sklearn.feature_extraction.text import CountVectorizer\n",
    "\n",
    "def build_vocabulary(comments):\n",
    "    vocabulary = set()\n",
    "    for comment in comments:\n",
    "        for word in comment:\n",
    "            vocabulary.add(word)\n",
    "    return vocabulary\n",
    "\n",
    "def prepare_train(comments, vocabulary, train_size):\n",
    "    train = comments[:int(train_size * len(comments))]\n",
    "    test = comments[len(comments)-len(train):]\n",
    "    vocabulary = list(vocabulary)\n",
    "    cv = CountVectorizer(vocabulary=vocabulary)\n",
    "    \n",
    "    train_X = []\n",
    "    train_Y = []\n",
    "    test_X = []\n",
    "    test_Y = []\n",
    "\n",
    "    for comment in train:\n",
    "        train_X.append(comment['body'])\n",
    "        train_Y.append(comment['score'])\n",
    "    train_X = cv.fit_transform(train_X)\n",
    "\n",
    "    for comment in test:\n",
    "        test_X.append(comment['body'])\n",
    "        test_Y.append(comment['score'])\n",
    "    test_X = cv.fit_transform(test_X)\n",
    "    \n",
    "    return train_X, train_Y, test_X, test_Y\n",
    "\n",
    "vocabulary = build_vocabulary(comments)\n",
    "train_X, train_Y, test_X, test_Y = prepare_train(comments, vocabulary, train_size=0.9)"
   ]
  },
  {
   "cell_type": "code",
   "execution_count": null,
   "metadata": {},
   "outputs": [
    {
     "name": "stdout",
     "output_type": "stream",
     "text": [
      "6.3401532695e-06\n",
      "21.3334794347\n",
      "34704.3763216\n"
     ]
    }
   ],
   "source": [
    "from sklearn import metrics\n",
    "from sklearn.linear_model import LinearRegression\n",
    "import numpy as np\n",
    "\n",
    "lr = LinearRegression()\n",
    "lr = lr.fit(train_X, train_Y)\n",
    "print (lr.score(train_X, train_Y))\n",
    "prediction = lr.predict(test_X)\n",
    "# prediction = np.zeros(len(test_Y))\n",
    "print (metrics.mean_absolute_error(test_Y, prediction))\n",
    "print (metrics.mean_squared_error(test_Y, prediction))"
   ]
  },
  {
   "cell_type": "markdown",
   "metadata": {
    "collapsed": true
   },
   "source": [
    "# Baseline 2: Neural Network Regression with GloVe"
   ]
  },
  {
   "cell_type": "code",
   "execution_count": null,
   "metadata": {
    "collapsed": true
   },
   "outputs": [],
   "source": [
    "from gensim.scripts.glove2word2vec import glove2word2vec\n",
    "glove_input_file = 'glove.txt'\n",
    "word2vec_output_file = 'word2vec.txt'\n",
    "model = glove2word2vec(glove_input_file, word2vec_output_file)\n",
    "\n",
    "from gensim.models import KeyedVectors\n",
    "filename = 'word2vec.txt'\n",
    "model = KeyedVectors.load_word2vec_format(filename, binary=False)\n",
    "result = model.most_similar(positive=['woman', 'king'], negative=['man'], topn=1)\n",
    "print(result)"
   ]
  },
  {
   "cell_type": "code",
   "execution_count": null,
   "metadata": {},
   "outputs": [],
   "source": [
    "import numpy as np\n",
    "\n",
    "def prepare_train(comments, train_size):\n",
    "    train = comments[:int(train_size * len(comments))]\n",
    "    test = comments[len(comments)-len(train):]\n",
    "    wordvec_dim = model['test'].shape\n",
    "    \n",
    "    train_X = []\n",
    "    train_Y = []\n",
    "    test_X = []\n",
    "    test_Y = []\n",
    "\n",
    "    for comment in train:\n",
    "        sentence_vector = np.zeros(wordvec_dim)\n",
    "        count = 0\n",
    "        for word in comment['body']:\n",
    "            if word in model.vocab:\n",
    "                count += 1\n",
    "                sentence_vector += model[word]\n",
    "        sentence_vector /= count\n",
    "        train_X.append(sentence_vector)\n",
    "        train_Y.append(comment['score'])\n",
    "\n",
    "    for comment in test:\n",
    "        sentence_vector = np.zeros(wordvec_dim)\n",
    "        count = 0\n",
    "        for word in comment['body']:\n",
    "            if word in model.vocab:\n",
    "                count += 1\n",
    "                sentence_vector += model[word]\n",
    "        sentence_vector /= count\n",
    "        test_X.append(sentence_vector)\n",
    "        test_Y.append(comment['score'])\n",
    "    \n",
    "    return train_X, train_Y, test_X, test_Y\n",
    "\n",
    "train_X, train_Y, test_X, test_Y = prepare_train(comments, train_size=0.9)"
   ]
  },
  {
   "cell_type": "code",
   "execution_count": null,
   "metadata": {},
   "outputs": [],
   "source": [
    "from sklearn.neural_network import MLPRegressor\n",
    "import numpy as np\n",
    "import matplotlib.pyplot as plt\n",
    "\n",
    "nn = MLPRegressor(\n",
    "    hidden_layer_sizes=(10,),  activation='relu', solver='adam', alpha=0.001, batch_size='auto',\n",
    "    learning_rate='constant', learning_rate_init=0.01, power_t=0.5, max_iter=1000, shuffle=True,\n",
    "    random_state=9, tol=0.0001, verbose=False, warm_start=False, momentum=0.9, nesterovs_momentum=True,\n",
    "    early_stopping=False, validation_fraction=0.1, beta_1=0.9, beta_2=0.999, epsilon=1e-08)\n",
    "nn.fit(train_X, train_Y)\n",
    "prediction = nn.predict(test_X)\n",
    "print (nn.score(train_X, train_Y))\n",
    "print (metrics.mean_absolute_error(test_Y, prediction))\n",
    "print (metrics.mean_squared_error(test_Y, prediction))"
   ]
  },
  {
   "cell_type": "code",
   "execution_count": null,
   "metadata": {
    "collapsed": true
   },
   "outputs": [],
   "source": [
    " "
   ]
  }
 ],
 "metadata": {
  "kernelspec": {
   "display_name": "Python 3",
   "language": "python",
   "name": "python3"
  },
  "language_info": {
   "codemirror_mode": {
    "name": "ipython",
    "version": 3
   },
   "file_extension": ".py",
   "mimetype": "text/x-python",
   "name": "python",
   "nbconvert_exporter": "python",
   "pygments_lexer": "ipython3",
   "version": "3.6.3"
  }
 },
 "nbformat": 4,
 "nbformat_minor": 2
}
