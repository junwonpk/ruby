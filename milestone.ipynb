{
 "cells": [
  {
   "cell_type": "markdown",
   "metadata": {
    "collapsed": true
   },
   "source": [
    "# Utility Functions"
   ]
  },
  {
   "cell_type": "code",
   "execution_count": 1,
   "metadata": {},
   "outputs": [
    {
     "name": "stdout",
     "output_type": "stream",
     "text": [
      "[nltk_data] Downloading package punkt to /home/john/nltk_data...\n",
      "[nltk_data]   Package punkt is already up-to-date!\n"
     ]
    }
   ],
   "source": [
    "import tensorflow as tf\n",
    "import numpy as np\n",
    "import json\n",
    "import re\n",
    "from tensorflow.contrib.rnn import GRUCell\n",
    "from tensorflow.python.ops.rnn import bidirectional_dynamic_rnn as bi_rnn\n",
    "from tqdm import tqdm_notebook as tqdm\n",
    "from tqdm import tnrange as trange\n",
    "from gensim.models import KeyedVectors\n",
    "from gensim.scripts.glove2word2vec import glove2word2vec\n",
    "import nltk\n",
    "from nltk.stem.porter import *\n",
    "from nltk import word_tokenize\n",
    "import pickle\n",
    "import matplotlib.pyplot as plt\n",
    "from scipy.stats.stats import pearsonr\n",
    "\n",
    "nltk.download('punkt')\n",
    "ps = PorterStemmer()\n",
    "regex = re.compile('[^a-zA-Z]')"
   ]
  },
  {
   "cell_type": "code",
   "execution_count": 2,
   "metadata": {
    "collapsed": true
   },
   "outputs": [],
   "source": [
    "def process_word(word):\n",
    "    if 'http' in word:\n",
    "        return 'TOKEN_HTTP_URL'\n",
    "    if 'ftp' in word:\n",
    "        return 'TOKEN_FTP_URL'\n",
    "    if '@' in word:\n",
    "        return 'TOKEN_AT_REFERENCE'\n",
    "    word = word.lower()\n",
    "    word = regex.sub('',word)\n",
    "    word = ps.stem(word)\n",
    "    return word\n",
    "\n",
    "def zero_pad(X, seq_len):\n",
    "    return np.array([x[:seq_len - 1] + [0] * max(seq_len - len(x), 1) for x in X])\n",
    "\n",
    "\n",
    "def get_vocabulary_size(X):\n",
    "    return max([max(x) for x in X]) + 1  # plus the 0th word\n",
    "\n",
    "\n",
    "def fit_in_vocabulary(X, voc_size):\n",
    "    return [[w for w in x if w < voc_size] for x in X]\n",
    "\n",
    "def batch_generator(X, y, batch_size):\n",
    "    size = X.shape[0]\n",
    "    X_copy = X.copy()\n",
    "    y_copy = y.copy()\n",
    "    indices = np.arange(size)\n",
    "    np.random.shuffle(indices)\n",
    "    X_copy = X_copy[indices]\n",
    "    y_copy = y_copy[indices]\n",
    "    i = 0\n",
    "    while True:\n",
    "        if i + batch_size <= size:\n",
    "            yield X_copy[i:i + batch_size], y_copy[i:i + batch_size]\n",
    "            i += batch_size\n",
    "        else:\n",
    "            i = 0\n",
    "            indices = np.arange(size)\n",
    "            np.random.shuffle(indices)\n",
    "            X_copy = X_copy[indices]\n",
    "            y_copy = y_copy[indices]\n",
    "            continue"
   ]
  },
  {
   "cell_type": "markdown",
   "metadata": {},
   "source": [
    "# Feature Extractors"
   ]
  },
  {
   "cell_type": "code",
   "execution_count": 3,
   "metadata": {
    "collapsed": true
   },
   "outputs": [],
   "source": [
    "# glove_loaded = False\n",
    "\n",
    "# def load_glove():\n",
    "#     model = dict()\n",
    "#     print(\"Loading Glove\")\n",
    "#     glove2word2vec('glove.txt', 'word2vec.txt') #input glove.txt, output word2vec.txt\n",
    "#     model = KeyedVectors.load_word2vec_format('word2vec.txt', binary=False)\n",
    "#     glove_loaded = True\n",
    "#     print(\"Glove Loaded. Testing: (expected output \\\"queen\\\")\")\n",
    "#     print(model.most_similar(positive=['woman', 'king'], negative=['man'], topn=1))\n",
    "#     return model\n",
    "\n",
    "# def glove(comment, vocabulary):\n",
    "#     if not glove_loaded:\n",
    "#         model = load_glove()\n",
    "#     body = comment['body']\n",
    "#     x = []\n",
    "#     for word in body.split():\n",
    "#         if word in model.keys():\n",
    "#             word = process_word(word)\n",
    "#             x.append(model[word])\n",
    "#     y = (comment['num_child_comments'] > 0)\n",
    "#     return x, y\n",
    "\n",
    "# def load_glove_embedding(filename):\n",
    "#     vocab = []\n",
    "#     emb = []\n",
    "#     file = open(filename, 'r')\n",
    "#     for line in file.readlines():\n",
    "#         row = line.strip().split(' ')\n",
    "#         vocab.append(row[0])\n",
    "#         emb.append(row[1:])\n",
    "#     print(\"GloVe Loaded.\")\n",
    "#     file.close()\n",
    "#     vocab_size = len(vocab)\n",
    "#     embedding_dim = len(emb[0])\n",
    "#     emb = np.asarray(emb)\n",
    "#     return vocab, emb, vocab_size, embedding_dim"
   ]
  },
  {
   "cell_type": "code",
   "execution_count": 4,
   "metadata": {
    "collapsed": true
   },
   "outputs": [],
   "source": [
    "def onehot(comment, vocabulary):\n",
    "    x = []\n",
    "    words = word_tokenize(comment['body'])\n",
    "    x = [vocabulary.get(word, vocabulary['UNK']) for word in words]\n",
    "#     for word in comment['body'].split():\n",
    "#         word = process_word(word)\n",
    "#         x.append(vocabulary[word])\n",
    "    if (comment['num_child_comments'] > 0):\n",
    "        y = 1\n",
    "    else:\n",
    "        y = 0\n",
    "    return x, y"
   ]
  },
  {
   "cell_type": "code",
   "execution_count": 5,
   "metadata": {
    "collapsed": true
   },
   "outputs": [],
   "source": [
    "def weekday(comment, vocabulary):\n",
    "    x = comment['weekday']\n",
    "    if (comment['num_child_comments'] > 0):\n",
    "        y = 1\n",
    "    else:\n",
    "        y = 0\n",
    "    return x, y"
   ]
  },
  {
   "cell_type": "code",
   "execution_count": 6,
   "metadata": {
    "collapsed": true
   },
   "outputs": [],
   "source": [
    "def time_of_day(comment, vocabulary):\n",
    "    x = comment['time_of_day']\n",
    "    if (comment['num_child_comments'] > 0):\n",
    "        y = 1\n",
    "    else:\n",
    "        y = 0\n",
    "    return x, y"
   ]
  },
  {
   "cell_type": "code",
   "execution_count": 7,
   "metadata": {
    "collapsed": true
   },
   "outputs": [],
   "source": [
    "def day_time(comment, vocabulary):\n",
    "    x = [comment['weekday'], comment['time_of_day']]\n",
    "    if (comment['num_child_comments'] > 0):\n",
    "        y = 1\n",
    "    else:\n",
    "        y = 0\n",
    "    return x, y"
   ]
  },
  {
   "cell_type": "code",
   "execution_count": 8,
   "metadata": {
    "collapsed": true
   },
   "outputs": [],
   "source": [
    "def onehot_day_time(comment, vocabulary):\n",
    "    xo, _ = onehot(comment, vocabulary)\n",
    "    x, y = day_time(comment, vocabulary)\n",
    "    x += xo\n",
    "    return x, y"
   ]
  },
  {
   "cell_type": "code",
   "execution_count": 9,
   "metadata": {
    "collapsed": true
   },
   "outputs": [],
   "source": [
    "# feature_extractor receives comment and vocabulary\n",
    "# and outputs feature vector x and associated result y.\n",
    "\n",
    "def load_comments(filename, feature_extractor, vocabulary):\n",
    "    X = []\n",
    "    Y = []\n",
    "    vocabulary = dict((map(reversed, enumerate(list(vocabulary)))))\n",
    "    progress = 0\n",
    "    print(\"Loading {}\".format(filename))\n",
    "    with open(filename, \"r\") as data:\n",
    "        for line in data:\n",
    "            comment = json.loads(line)\n",
    "            x, y = feature_extractor(comment, vocabulary)\n",
    "            X.append(x)\n",
    "            Y.append(y)\n",
    "            progress += 1\n",
    "#             if progress == 100000: return X, Y\n",
    "            if progress % 1000000 == 0:\n",
    "                print(\"{} lines processed\".format(progress))\n",
    "    print(\"Loaded {}\".format(filename))\n",
    "    return X, Y"
   ]
  },
  {
   "cell_type": "code",
   "execution_count": 10,
   "metadata": {
    "collapsed": true
   },
   "outputs": [],
   "source": [
    "def load_vocabulary(filenames):\n",
    "    print(\"Loading Vocabulary\")\n",
    "    vocabulary = dict()\n",
    "    progress = 0\n",
    "    for filename in filenames:\n",
    "        with open(filename, \"r\") as data:\n",
    "            for line in data:\n",
    "                comment = json.loads(line)\n",
    "                for word in comment['body'].split():\n",
    "                    word = process_word(word)\n",
    "                    if word not in vocabulary.keys():\n",
    "                        vocabulary[word] = len(vocabulary.keys())\n",
    "                    progress += 1\n",
    "                    if progress % 10000000 == 0:\n",
    "                        print(\"{} words added to Vocabulary\".format(progress))\n",
    "    print(\"Vocabulary Loaded\")\n",
    "    return vocabulary\n",
    "\n",
    "def load_glove(filename):\n",
    "    print(\"Loading Stanford GloVe\")\n",
    "    PAD_TOKEN = 0\n",
    "    \n",
    "    word2idx = { 'PAD': PAD_TOKEN } # dict so we can lookup indices for tokenising our text later from string to sequence of integers\n",
    "    weights = []\n",
    "\n",
    "    with open(filename, \"r\") as file:\n",
    "        for index, line in enumerate(file):\n",
    "            values = line.split() # Word and weights separated by space\n",
    "            word = values[0] # Word is first symbol on each line\n",
    "            word_weights = np.asarray(values[1:], dtype=np.float32) # Remainder of line is weights for word\n",
    "            word2idx[word] = index + 1 # PAD is our zeroth index so shift by one\n",
    "            weights.append(word_weights)\n",
    "            if index % 100000 == 0: print(\"Loaded {} words\".format(index))\n",
    "#             if index + 1 == 40000: break # Limit vocabulary to top 40k terms\n",
    "                \n",
    "\n",
    "    EMBEDDING_DIMENSION = len(weights[0])\n",
    "    # Insert the PAD weights at index 0 now we know the embedding dimension\n",
    "    weights.insert(0, np.random.randn(EMBEDDING_DIMENSION))\n",
    "\n",
    "    # Append unknown and pad to end of vocab and initialize as random\n",
    "    UNKNOWN_TOKEN = len(weights)\n",
    "    word2idx['UNK'] = UNKNOWN_TOKEN\n",
    "    weights.append(np.random.randn(EMBEDDING_DIMENSION))\n",
    "    weights = np.asarray(weights, dtype=np.float32)\n",
    "    print(\"Loaded Stanford GloVe\")\n",
    "    return word2idx, weights"
   ]
  },
  {
   "cell_type": "markdown",
   "metadata": {},
   "source": [
    "# Neural Network Classifiers"
   ]
  },
  {
   "cell_type": "markdown",
   "metadata": {},
   "source": [
    "## Attention-based Recurrent Neural Network\n",
    "Implementation based on https://github.com/ilivans/tf-rnn-attention"
   ]
  },
  {
   "cell_type": "code",
   "execution_count": 11,
   "metadata": {
    "collapsed": true
   },
   "outputs": [],
   "source": [
    "def attention(inputs, attention_size, time_major=False, return_alphas=False):\n",
    "    if isinstance(inputs, tuple):\n",
    "        # In case of Bi-RNN, concatenate the forward and the backward RNN outputs.\n",
    "        inputs = tf.concat(inputs, 2)\n",
    "\n",
    "    if time_major:\n",
    "        # (T,B,D) => (B,T,D)\n",
    "        inputs = tf.array_ops.transpose(inputs, [1, 0, 2])\n",
    "\n",
    "    hidden_size = inputs.shape[2].value  # D value - hidden size of the RNN layer\n",
    "\n",
    "    # Trainable parameters\n",
    "    w_omega = tf.Variable(tf.random_normal([hidden_size, attention_size], stddev=0.1))\n",
    "    b_omega = tf.Variable(tf.random_normal([attention_size], stddev=0.1))\n",
    "    u_omega = tf.Variable(tf.random_normal([attention_size], stddev=0.1))\n",
    "\n",
    "    with tf.name_scope('v'):\n",
    "        # Applying fully connected layer with non-linear activation to each of the B*T timestamps;\n",
    "        #  the shape of `v` is (B,T,D)*(D,A)=(B,T,A), where A=attention_size\n",
    "        v = tf.tanh(tf.tensordot(inputs, w_omega, axes=1) + b_omega)\n",
    "\n",
    "    # For each of the timestamps its vector of size A from `v` is reduced with `u` vector\n",
    "    vu = tf.tensordot(v, u_omega, axes=1, name='vu')  # (B,T) shape\n",
    "    alphas = tf.nn.softmax(vu, name='alphas')         # (B,T) shape\n",
    "\n",
    "    # Output of (Bi-)RNN is reduced with attention vector; the result has (B,D) shape\n",
    "    output = tf.reduce_sum(inputs * tf.expand_dims(alphas, -1), 1)\n",
    "\n",
    "    if not return_alphas:\n",
    "        return output\n",
    "    else:\n",
    "        return output, alphas\n",
    "\n",
    "def rnn_train(X_train, X_test, y_train, y_test,\n",
    "        NUM_WORDS = 10000,\n",
    "        INDEX_FROM = 3,\n",
    "        SEQUENCE_LENGTH = 250,\n",
    "        EMBEDDING_DIM = 100,\n",
    "        HIDDEN_SIZE = 150,\n",
    "        ATTENTION_SIZE = 50,\n",
    "        KEEP_PROB = 0.8,\n",
    "        BATCH_SIZE = 256,\n",
    "        NUM_EPOCHS = 3,\n",
    "        DELTA = 0.5,\n",
    "        MODEL_PATH = './model',\n",
    "        glove = False,\n",
    "        glove_flag = False\n",
    "    ):\n",
    "    \n",
    "    # Sequences pre-processing\n",
    "    vocabulary_size = get_vocabulary_size(X_train)\n",
    "    X_test = fit_in_vocabulary(X_test, vocabulary_size)\n",
    "    X_train = zero_pad(X_train, SEQUENCE_LENGTH)\n",
    "    X_test = zero_pad(X_test, SEQUENCE_LENGTH)\n",
    "\n",
    "    # Different placeholders\n",
    "    with tf.name_scope('Inputs'):\n",
    "        batch_ph = tf.placeholder(tf.int32, [None, SEQUENCE_LENGTH], name='batch_ph')\n",
    "        target_ph = tf.placeholder(tf.float32, [None], name='target_ph')\n",
    "        seq_len_ph = tf.placeholder(tf.int32, [None], name='seq_len_ph')\n",
    "        keep_prob_ph = tf.placeholder(tf.float32, name='keep_prob_ph')\n",
    "\n",
    "    # Embedding layer\n",
    "    with tf.name_scope('Embedding_layer'):\n",
    "        if not glove_flag:\n",
    "            print(\"Initializing Embedding Layer\")\n",
    "            embeddings_var = tf.Variable(tf.random_uniform([vocabulary_size, EMBEDDING_DIM], -1.0, 1.0), trainable=True)\n",
    "        else:\n",
    "            print(\"Using GloVe for Embedding Layer\")\n",
    "            glove_initializer = tf.constant_initializer(glove)\n",
    "            vocab_size = glove.shape[0]\n",
    "            embedding_dim = glove[0].shape[0]\n",
    "            embeddings_var = tf.get_variable(\n",
    "                name='embeddings_var', \n",
    "                shape=(vocab_size, embedding_dim), \n",
    "                initializer=glove_initializer,\n",
    "                trainable=True)\n",
    "        tf.summary.histogram('embeddings_var', embeddings_var)\n",
    "        batch_embedded = tf.nn.embedding_lookup(embeddings_var, batch_ph)\n",
    "        print(\"Embedding Loaded\")\n",
    "\n",
    "    # (Bi-)RNN layer(-s)\n",
    "    rnn_outputs, _ = bi_rnn(GRUCell(HIDDEN_SIZE), GRUCell(HIDDEN_SIZE),\n",
    "                            inputs=batch_embedded, sequence_length=seq_len_ph, dtype=tf.float32)\n",
    "    tf.summary.histogram('RNN_outputs', rnn_outputs)\n",
    "\n",
    "    # Attention layer\n",
    "    with tf.name_scope('Attention_layer'):\n",
    "        attention_output, alphas = attention(rnn_outputs, ATTENTION_SIZE, return_alphas=True)\n",
    "        tf.summary.histogram('alphas', alphas)\n",
    "\n",
    "    # Dropout\n",
    "    drop = tf.nn.dropout(attention_output, keep_prob_ph)\n",
    "\n",
    "    # Fully connected layer\n",
    "    with tf.name_scope('Fully_connected_layer'):\n",
    "        W = tf.Variable(tf.truncated_normal([HIDDEN_SIZE * 2, 1], stddev=0.1))  # Hidden size is multiplied by 2 for Bi-RNN\n",
    "        b = tf.Variable(tf.constant(0., shape=[1]))\n",
    "        y_hat = tf.nn.xw_plus_b(drop, W, b)\n",
    "        y_hat = tf.squeeze(y_hat)\n",
    "        tf.summary.histogram('W', W)\n",
    "\n",
    "    with tf.name_scope('Metrics'):\n",
    "        # Cross-entropy loss and optimizer initialization\n",
    "        loss = tf.reduce_mean(tf.nn.sigmoid_cross_entropy_with_logits(logits=y_hat, labels=target_ph))\n",
    "        tf.summary.scalar('loss', loss)\n",
    "        optimizer = tf.train.AdamOptimizer(learning_rate=1e-3).minimize(loss)\n",
    "\n",
    "        # Accuracy metric\n",
    "        accuracy = tf.reduce_mean(tf.cast(tf.equal(tf.round(tf.sigmoid(y_hat)), target_ph), tf.float32))\n",
    "        tf.summary.scalar('accuracy', accuracy)\n",
    "\n",
    "    merged = tf.summary.merge_all()\n",
    "\n",
    "    # Batch generators\n",
    "#     train_batch_generator = batch_generator(X_train, y_train, BATCH_SIZE)\n",
    "#     test_batch_generator = batch_generator(X_test, y_test, BATCH_SIZE)\n",
    "\n",
    "    train_writer = tf.summary.FileWriter('./logdir/train', accuracy.graph)\n",
    "    test_writer = tf.summary.FileWriter('./logdir/test', accuracy.graph)\n",
    "\n",
    "    session_conf = tf.ConfigProto(gpu_options=tf.GPUOptions(allow_growth=True))\n",
    "\n",
    "    saver = tf.train.Saver()\n",
    "\n",
    "    with tf.Session(config=session_conf) as sess:\n",
    "        sess.run(tf.global_variables_initializer())\n",
    "        print(\"Start learning...\")\n",
    "        for epoch in range(NUM_EPOCHS):\n",
    "            loss_train = 0\n",
    "            loss_test = 0\n",
    "            accuracy_train = 0\n",
    "            accuracy_test = 0\n",
    "\n",
    "            print(\"epoch: {}\\t\".format(epoch), end=\"\")\n",
    "\n",
    "            # Training\n",
    "            num_batches = X_train.shape[0] // BATCH_SIZE\n",
    "            for b in tqdm(range(num_batches)):\n",
    "                x_batch = X_train[b * BATCH_SIZE: (b+1) * BATCH_SIZE]\n",
    "                y_batch = y_train[b * BATCH_SIZE: (b+1) * BATCH_SIZE]\n",
    "#                 x_batch, y_batch = next(train_batch_generator)\n",
    "                \n",
    "                seq_len = np.array([list(x).index(0) + 1 for x in x_batch])  # actual lengths of sequences\n",
    "                loss_tr, acc, _, summary = sess.run([loss, accuracy, optimizer, merged],\n",
    "                                                    feed_dict={batch_ph: x_batch,\n",
    "                                                               target_ph: y_batch,\n",
    "                                                               seq_len_ph: seq_len,\n",
    "                                                               keep_prob_ph: KEEP_PROB})\n",
    "                accuracy_train += acc\n",
    "                loss_train = loss_tr * DELTA + loss_train * (1 - DELTA)\n",
    "                train_writer.add_summary(summary, b + num_batches * epoch)\n",
    "            accuracy_train /= num_batches\n",
    "\n",
    "            # Testing\n",
    "            num_batches = X_test.shape[0] // BATCH_SIZE\n",
    "            for b in tqdm(range(num_batches)):\n",
    "                x_batch = X_test[b * BATCH_SIZE: (b+1) * BATCH_SIZE]\n",
    "                y_batch = y_test[b * BATCH_SIZE: (b+1) * BATCH_SIZE]\n",
    "#                 x_batch, y_batch = next(test_batch_generator)\n",
    "                seq_len = np.array([list(x).index(0) + 1 for x in x_batch])  # actual lengths of sequences\n",
    "                loss_test_batch, acc, summary = sess.run([loss, accuracy, merged],\n",
    "                                                         feed_dict={batch_ph: x_batch,\n",
    "                                                                    target_ph: y_batch,\n",
    "                                                                    seq_len_ph: seq_len,\n",
    "                                                                    keep_prob_ph: 1.0})\n",
    "                accuracy_test += acc\n",
    "                loss_test += loss_test_batch\n",
    "                test_writer.add_summary(summary, b + num_batches * epoch)\n",
    "            accuracy_test /= num_batches\n",
    "            loss_test /= num_batches\n",
    "\n",
    "            print(\"loss: {:.3f}, val_loss: {:.3f}, acc: {:.3f}, val_acc: {:.3f}\".format(\n",
    "                loss_train, loss_test, accuracy_train, accuracy_test\n",
    "            ))\n",
    "        train_writer.close()\n",
    "        test_writer.close()\n",
    "        saver.save(sess, MODEL_PATH)\n",
    "        print(\"Run 'tensorboard --logdir=./logdir' to checkout tensorboard logs.\")"
   ]
  },
  {
   "cell_type": "code",
   "execution_count": 12,
   "metadata": {},
   "outputs": [
    {
     "name": "stdout",
     "output_type": "stream",
     "text": [
      "Loading Stanford GloVe\n",
      "Loaded 0 words\n",
      "Loaded 100000 words\n",
      "Loaded 200000 words\n",
      "Loaded 300000 words\n",
      "Loaded Stanford GloVe\n",
      "Loading Reddit2ndTrainTime\n",
      "1000000 lines processed\n",
      "2000000 lines processed\n",
      "Loaded Reddit2ndTrainTime\n",
      "Loading Reddit2ndDevTime\n",
      "Loaded Reddit2ndDevTime\n",
      "Saved X_train Pickle\n",
      "Saved y_train Pickle\n",
      "Saved X_test Pickle\n",
      "Saved y_test Pickle\n",
      "Saved vocabulary Pickle\n",
      "Saved glove Pickle\n"
     ]
    }
   ],
   "source": [
    "# vocabulary = load_vocabulary(['Reddit2ndTrainTime','Reddit2ndDevTime'])\n",
    "vocabulary, glove = load_glove('glove.6B.300d.txt')\n",
    "\n",
    "X_train, y_train = load_comments('Reddit2ndTrainTime', onehot, vocabulary)\n",
    "X_test, y_test = load_comments('Reddit2ndDevTime', onehot, vocabulary)\n",
    "\n",
    "files = [X_train, y_train, X_test, y_test, vocabulary, glove]\n",
    "filenames = [\"X_train\", \"y_train\", \"X_test\", \"y_test\", \"vocabulary\", \"glove\"]\n",
    "for i in range(len(filenames)):\n",
    "    with open(filenames[i] + '.p', 'wb') as fp:\n",
    "        pickle.dump(files[i], fp)\n",
    "        print (\"Saved {} Pickle\".format(filenames[i]))"
   ]
  },
  {
   "cell_type": "code",
   "execution_count": 13,
   "metadata": {
    "scrolled": false
   },
   "outputs": [
    {
     "name": "stdout",
     "output_type": "stream",
     "text": [
      "Loaded X_train pickle\n",
      "Loaded y_train pickle\n",
      "Loaded X_test pickle\n",
      "Loaded y_test pickle\n",
      "Loaded vocabulary pickle\n",
      "Loaded glove pickle\n",
      "[1, 0, 1, 1, 1, 1, 1, 1, 1, 0]\n",
      "Using GloVe for Embedding Layer\n",
      "Embedding Loaded\n",
      "Start learning...\n",
      "epoch: 0\t"
     ]
    },
    {
     "data": {
      "application/vnd.jupyter.widget-view+json": {
       "model_id": "4d6ff31a51bc4c01af689b2e7f75266d",
       "version_major": 2,
       "version_minor": 0
      },
      "text/plain": [
       "A Jupyter Widget"
      ]
     },
     "metadata": {},
     "output_type": "display_data"
    },
    {
     "name": "stdout",
     "output_type": "stream",
     "text": [
      "\n"
     ]
    },
    {
     "data": {
      "application/vnd.jupyter.widget-view+json": {
       "model_id": "f9017d23bd914fbabcfeacb472a87c25",
       "version_major": 2,
       "version_minor": 0
      },
      "text/plain": [
       "A Jupyter Widget"
      ]
     },
     "metadata": {},
     "output_type": "display_data"
    },
    {
     "name": "stdout",
     "output_type": "stream",
     "text": [
      "\n",
      "loss: 0.680, val_loss: 0.677, acc: 0.568, val_acc: 0.579\n",
      "epoch: 1\t"
     ]
    },
    {
     "data": {
      "application/vnd.jupyter.widget-view+json": {
       "model_id": "d434ecf087774c18b0254948f4d72b0a",
       "version_major": 2,
       "version_minor": 0
      },
      "text/plain": [
       "A Jupyter Widget"
      ]
     },
     "metadata": {},
     "output_type": "display_data"
    },
    {
     "name": "stdout",
     "output_type": "stream",
     "text": [
      "\n"
     ]
    },
    {
     "data": {
      "application/vnd.jupyter.widget-view+json": {
       "model_id": "8f1b72538fff4114aa56dfb9416387be",
       "version_major": 2,
       "version_minor": 0
      },
      "text/plain": [
       "A Jupyter Widget"
      ]
     },
     "metadata": {},
     "output_type": "display_data"
    },
    {
     "name": "stdout",
     "output_type": "stream",
     "text": [
      "\n",
      "loss: 0.668, val_loss: 0.671, acc: 0.590, val_acc: 0.587\n",
      "epoch: 2\t"
     ]
    },
    {
     "data": {
      "application/vnd.jupyter.widget-view+json": {
       "model_id": "91ddfe8b81e64982b879f8e7172b1eb7",
       "version_major": 2,
       "version_minor": 0
      },
      "text/plain": [
       "A Jupyter Widget"
      ]
     },
     "metadata": {},
     "output_type": "display_data"
    },
    {
     "name": "stdout",
     "output_type": "stream",
     "text": [
      "\n"
     ]
    },
    {
     "data": {
      "application/vnd.jupyter.widget-view+json": {
       "model_id": "35858129081947fba2f499503007c966",
       "version_major": 2,
       "version_minor": 0
      },
      "text/plain": [
       "A Jupyter Widget"
      ]
     },
     "metadata": {},
     "output_type": "display_data"
    },
    {
     "name": "stdout",
     "output_type": "stream",
     "text": [
      "\n",
      "loss: 0.648, val_loss: 0.680, acc: 0.617, val_acc: 0.580\n",
      "epoch: 3\t"
     ]
    },
    {
     "data": {
      "application/vnd.jupyter.widget-view+json": {
       "model_id": "5afd0aaecccd4f30bd786662b3519f10",
       "version_major": 2,
       "version_minor": 0
      },
      "text/plain": [
       "A Jupyter Widget"
      ]
     },
     "metadata": {},
     "output_type": "display_data"
    },
    {
     "name": "stdout",
     "output_type": "stream",
     "text": [
      "\n"
     ]
    },
    {
     "data": {
      "application/vnd.jupyter.widget-view+json": {
       "model_id": "23028238e5d047e68ce03cbab90d5264",
       "version_major": 2,
       "version_minor": 0
      },
      "text/plain": [
       "A Jupyter Widget"
      ]
     },
     "metadata": {},
     "output_type": "display_data"
    },
    {
     "name": "stdout",
     "output_type": "stream",
     "text": [
      "\n",
      "loss: 0.598, val_loss: 0.718, acc: 0.661, val_acc: 0.564\n",
      "epoch: 4\t"
     ]
    },
    {
     "data": {
      "application/vnd.jupyter.widget-view+json": {
       "model_id": "a5bde286a13c4f09ad2375c49cb6577c",
       "version_major": 2,
       "version_minor": 0
      },
      "text/plain": [
       "A Jupyter Widget"
      ]
     },
     "metadata": {},
     "output_type": "display_data"
    },
    {
     "name": "stdout",
     "output_type": "stream",
     "text": [
      "\n"
     ]
    },
    {
     "data": {
      "application/vnd.jupyter.widget-view+json": {
       "model_id": "85b2bc66e47a4ae59fe7945bc4ad0ffe",
       "version_major": 2,
       "version_minor": 0
      },
      "text/plain": [
       "A Jupyter Widget"
      ]
     },
     "metadata": {},
     "output_type": "display_data"
    },
    {
     "name": "stdout",
     "output_type": "stream",
     "text": [
      "\n",
      "loss: 0.517, val_loss: 0.814, acc: 0.716, val_acc: 0.550\n",
      "epoch: 5\t"
     ]
    },
    {
     "data": {
      "application/vnd.jupyter.widget-view+json": {
       "model_id": "b1ac28cfdc834c5fa7eac89d101ffd91",
       "version_major": 2,
       "version_minor": 0
      },
      "text/plain": [
       "A Jupyter Widget"
      ]
     },
     "metadata": {},
     "output_type": "display_data"
    },
    {
     "name": "stdout",
     "output_type": "stream",
     "text": [
      "\n"
     ]
    },
    {
     "data": {
      "application/vnd.jupyter.widget-view+json": {
       "model_id": "c128cb4c45734c9a8305187f9cdd6f7b",
       "version_major": 2,
       "version_minor": 0
      },
      "text/plain": [
       "A Jupyter Widget"
      ]
     },
     "metadata": {},
     "output_type": "display_data"
    },
    {
     "name": "stdout",
     "output_type": "stream",
     "text": [
      "\n",
      "loss: 0.418, val_loss: 0.980, acc: 0.775, val_acc: 0.541\n",
      "epoch: 6\t"
     ]
    },
    {
     "data": {
      "application/vnd.jupyter.widget-view+json": {
       "model_id": "e7e21d943d074dc1ad4c4da871a82834",
       "version_major": 2,
       "version_minor": 0
      },
      "text/plain": [
       "A Jupyter Widget"
      ]
     },
     "metadata": {},
     "output_type": "display_data"
    },
    {
     "name": "stdout",
     "output_type": "stream",
     "text": [
      "\n"
     ]
    },
    {
     "data": {
      "application/vnd.jupyter.widget-view+json": {
       "model_id": "8555ab4592f047bca10f16c7c0940b0c",
       "version_major": 2,
       "version_minor": 0
      },
      "text/plain": [
       "A Jupyter Widget"
      ]
     },
     "metadata": {},
     "output_type": "display_data"
    },
    {
     "name": "stdout",
     "output_type": "stream",
     "text": [
      "\n",
      "loss: 0.366, val_loss: 1.111, acc: 0.809, val_acc: 0.553\n",
      "epoch: 7\t"
     ]
    },
    {
     "data": {
      "application/vnd.jupyter.widget-view+json": {
       "model_id": "9da80bcb3c034483aeda0bf8dbc50548",
       "version_major": 2,
       "version_minor": 0
      },
      "text/plain": [
       "A Jupyter Widget"
      ]
     },
     "metadata": {},
     "output_type": "display_data"
    },
    {
     "name": "stdout",
     "output_type": "stream",
     "text": [
      "\n"
     ]
    },
    {
     "data": {
      "application/vnd.jupyter.widget-view+json": {
       "model_id": "0209d3cc932547d89b994f3f3a923da8",
       "version_major": 2,
       "version_minor": 0
      },
      "text/plain": [
       "A Jupyter Widget"
      ]
     },
     "metadata": {},
     "output_type": "display_data"
    },
    {
     "name": "stdout",
     "output_type": "stream",
     "text": [
      "\n",
      "loss: 0.338, val_loss: 1.201, acc: 0.824, val_acc: 0.553\n",
      "epoch: 8\t"
     ]
    },
    {
     "data": {
      "application/vnd.jupyter.widget-view+json": {
       "model_id": "353e676a544f4504993522d69de74e07",
       "version_major": 2,
       "version_minor": 0
      },
      "text/plain": [
       "A Jupyter Widget"
      ]
     },
     "metadata": {},
     "output_type": "display_data"
    },
    {
     "name": "stdout",
     "output_type": "stream",
     "text": [
      "\n"
     ]
    },
    {
     "data": {
      "application/vnd.jupyter.widget-view+json": {
       "model_id": "4cdb0b85cd3a406a9d8a30d5584e0e75",
       "version_major": 2,
       "version_minor": 0
      },
      "text/plain": [
       "A Jupyter Widget"
      ]
     },
     "metadata": {},
     "output_type": "display_data"
    },
    {
     "name": "stdout",
     "output_type": "stream",
     "text": [
      "\n",
      "loss: 0.311, val_loss: 1.504, acc: 0.852, val_acc: 0.558\n",
      "epoch: 9\t"
     ]
    },
    {
     "data": {
      "application/vnd.jupyter.widget-view+json": {
       "model_id": "96a4245fb9054fae871be92bf9fd21ab",
       "version_major": 2,
       "version_minor": 0
      },
      "text/plain": [
       "A Jupyter Widget"
      ]
     },
     "metadata": {},
     "output_type": "display_data"
    },
    {
     "name": "stdout",
     "output_type": "stream",
     "text": [
      "\n"
     ]
    },
    {
     "data": {
      "application/vnd.jupyter.widget-view+json": {
       "model_id": "05a154c2dcf146dfa356c704a1dce777",
       "version_major": 2,
       "version_minor": 0
      },
      "text/plain": [
       "A Jupyter Widget"
      ]
     },
     "metadata": {},
     "output_type": "display_data"
    },
    {
     "name": "stdout",
     "output_type": "stream",
     "text": [
      "\n",
      "loss: 0.248, val_loss: 1.752, acc: 0.878, val_acc: 0.554\n",
      "Run 'tensorboard --logdir=./logdir' to checkout tensorboard logs.\n"
     ]
    }
   ],
   "source": [
    "X_train, y_train, X_test, y_test, vocabulary, glove = [], [], [], [], [], []\n",
    "files = [X_train, y_train, X_test, y_test, vocabulary, glove]\n",
    "filenames = [\"X_train\", \"y_train\", \"X_test\", \"y_test\", \"vocabulary\", \"glove\"]\n",
    "for i in range(len(filenames)):\n",
    "    with open(filenames[i] + '.p', 'rb') as fp:\n",
    "        files[i] = pickle.load(fp)\n",
    "        print (\"Loaded {} pickle\".format(filenames[i]))\n",
    "\n",
    "X_train, y_train, X_test, y_test, vocabulary, glove = files\n",
    "        \n",
    "print(y_train[:10])\n",
    "rnn_train(X_train[:100000], X_test[:100000], y_train, y_test,\n",
    "        NUM_WORDS = 10000,\n",
    "        INDEX_FROM = 3,\n",
    "        SEQUENCE_LENGTH = 250,\n",
    "        EMBEDDING_DIM = 100,\n",
    "        HIDDEN_SIZE = 150,\n",
    "        ATTENTION_SIZE = 50,\n",
    "        KEEP_PROB = 0.9,\n",
    "        BATCH_SIZE = 500,\n",
    "        NUM_EPOCHS = 10,\n",
    "        DELTA = 0.5,\n",
    "        MODEL_PATH = './model',\n",
    "        glove = glove,\n",
    "        glove_flag = True\n",
    "        )\n",
    "# rnn_train(X_train, X_test, y_train, y_test)"
   ]
  },
  {
   "cell_type": "markdown",
   "metadata": {},
   "source": [
    "# Investigating Correlation Between Time and Discussion Inspiration"
   ]
  },
  {
   "cell_type": "code",
   "execution_count": 14,
   "metadata": {},
   "outputs": [
    {
     "name": "stdout",
     "output_type": "stream",
     "text": [
      "Loading Reddit2ndTrainTime\n",
      "1000000 lines processed\n",
      "2000000 lines processed\n",
      "Loaded Reddit2ndTrainTime\n",
      "Pearson Correlation Coefficient: (0.024462531812320089, 1.8721186646872153e-296)\n",
      "X1 Mean: 2.9016956967424017, X0 Mean: 2.814791697088216\n",
      "X1 Median: 3.0, X0 Median: 3.0\n",
      "X1 Std: 1.7660453285522988, X0 Std: 1.7765209122880194\n"
     ]
    },
    {
     "data": {
      "image/png": "[encoded data removed]",
      "text/plain": [
       "<matplotlib.figure.Figure at 0x7fd346492898>"
      ]
     },
     "metadata": {},
     "output_type": "display_data"
    },
    {
     "data": {
      "image/png": "[encoded data removed]",
      "text/plain": [
       "<matplotlib.figure.Figure at 0x7fd3431edac8>"
      ]
     },
     "metadata": {},
     "output_type": "display_data"
    },
    {
     "name": "stdout",
     "output_type": "stream",
     "text": [
      "Loading Reddit2ndDevTime\n",
      "Loaded Reddit2ndDevTime\n",
      "Pearson Correlation Coefficient: (0.025611454084000913, 2.867153506944432e-42)\n",
      "X1 Mean: 2.90017203792714, X0 Mean: 2.8091497262738794\n",
      "X1 Median: 3.0, X0 Median: 3.0\n",
      "X1 Std: 1.7656536658506297, X0 Std: 1.77758949209671\n"
     ]
    },
    {
     "data": {
      "image/png": "[encoded data removed]",
      "text/plain": [
       "<matplotlib.figure.Figure at 0x7fd3490bb048>"
      ]
     },
     "metadata": {},
     "output_type": "display_data"
    },
    {
     "data": {
      "image/png": "[encoded data removed]",
      "text/plain": [
       "<matplotlib.figure.Figure at 0x7fd348fd3f28>"
      ]
     },
     "metadata": {},
     "output_type": "display_data"
    }
   ],
   "source": [
    "def check_correlation(filename, feature):\n",
    "    vocabulary = set()\n",
    "    X, y = load_comments(filename, feature, vocabulary)\n",
    "    p = pearsonr(X, y)\n",
    "    print(\"Pearson Correlation Coefficient: {}\".format(p))\n",
    "    X1 = []\n",
    "    X0 = []\n",
    "    for i in range(len(y)):\n",
    "        if y[i] == 1:\n",
    "            X1.append(X[i])\n",
    "        else:\n",
    "            X0.append(X[i])\n",
    "    print(\"X1 Mean: {}, X0 Mean: {}\".format(np.mean(X1), np.mean(X0)))\n",
    "    print(\"X1 Median: {}, X0 Median: {}\".format(np.median(X1), np.median(X0)))\n",
    "    print(\"X1 Std: {}, X0 Std: {}\".format(np.std(X1), np.std(X0)))\n",
    "\n",
    "    plt.hist(X1)\n",
    "    plt.xlabel(\"Weekday\")\n",
    "    plt.ylabel(\"Occurrence\")\n",
    "    plt.title(\"Weekdays of Discussion Inspiring Comments\")\n",
    "    plt.grid(True)\n",
    "    plt.show()\n",
    "    \n",
    "    plt.hist(X0)\n",
    "    plt.xlabel(\"Weekday\")\n",
    "    plt.ylabel(\"Occurrence\")\n",
    "    plt.title(\"Weekdays of Discussion Not-Inspiring Comments\")\n",
    "    plt.grid(True)\n",
    "    plt.show()\n",
    "\n",
    "# check_correlation('Reddit2ndTrainTime', weekday)\n",
    "check_correlation('Reddit2ndTrainTime', time_of_day)\n",
    "check_correlation('Reddit2ndDevTime', time_of_day)"
   ]
  },
  {
   "cell_type": "code",
   "execution_count": null,
   "metadata": {
    "collapsed": true
   },
   "outputs": [],
   "source": []
  }
 ],
 "metadata": {
  "kernelspec": {
   "display_name": "Python [default]",
   "language": "python",
   "name": "python3"
  },
  "language_info": {
   "codemirror_mode": {
    "name": "ipython",
    "version": 3
   },
   "file_extension": ".py",
   "mimetype": "text/x-python",
   "name": "python",
   "nbconvert_exporter": "python",
   "pygments_lexer": "ipython3",
   "version": "3.5.2"
  }
 },
 "nbformat": 4,
 "nbformat_minor": 2
}
